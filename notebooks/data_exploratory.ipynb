{
 "cells": [
  {
   "cell_type": "code",
   "execution_count": 1,
   "id": "a2f681f6-3f91-4c5b-a527-f5c173af8281",
   "metadata": {},
   "outputs": [],
   "source": [
    "import pandas as pd"
   ]
  },
  {
   "cell_type": "code",
   "execution_count": 2,
   "id": "7a1398df-18bf-4fd4-bed8-0281b5fa95f9",
   "metadata": {},
   "outputs": [],
   "source": [
    "df = pd.read_csv(\"..\\data\\data.csv\")"
   ]
  },
  {
   "cell_type": "code",
   "execution_count": 3,
   "id": "2eec880f-0b17-4885-9e92-f9061344cb15",
   "metadata": {},
   "outputs": [
    {
     "data": {
      "text/html": [
       "<div>\n",
       "<style scoped>\n",
       "    .dataframe tbody tr th:only-of-type {\n",
       "        vertical-align: middle;\n",
       "    }\n",
       "\n",
       "    .dataframe tbody tr th {\n",
       "        vertical-align: top;\n",
       "    }\n",
       "\n",
       "    .dataframe thead th {\n",
       "        text-align: right;\n",
       "    }\n",
       "</style>\n",
       "<table border=\"1\" class=\"dataframe\">\n",
       "  <thead>\n",
       "    <tr style=\"text-align: right;\">\n",
       "      <th></th>\n",
       "      <th>id</th>\n",
       "      <th>exercise_name</th>\n",
       "      <th>type_of_activity</th>\n",
       "      <th>type_of_equipment</th>\n",
       "      <th>body_part</th>\n",
       "      <th>type</th>\n",
       "      <th>muscle_groups_activated</th>\n",
       "      <th>instructions</th>\n",
       "    </tr>\n",
       "  </thead>\n",
       "  <tbody>\n",
       "    <tr>\n",
       "      <th>0</th>\n",
       "      <td>0</td>\n",
       "      <td>Push-Ups</td>\n",
       "      <td>Strength</td>\n",
       "      <td>Bodyweight</td>\n",
       "      <td>Upper Body</td>\n",
       "      <td>Push</td>\n",
       "      <td>Pectorals, Triceps, Deltoids</td>\n",
       "      <td>Start in a high plank position with your hands...</td>\n",
       "    </tr>\n",
       "    <tr>\n",
       "      <th>1</th>\n",
       "      <td>1</td>\n",
       "      <td>Squats</td>\n",
       "      <td>Strength</td>\n",
       "      <td>Bodyweight</td>\n",
       "      <td>Lower Body</td>\n",
       "      <td>Push</td>\n",
       "      <td>Quadriceps, Glutes, Hamstrings</td>\n",
       "      <td>Stand with feet shoulder-width apart. Lower yo...</td>\n",
       "    </tr>\n",
       "    <tr>\n",
       "      <th>2</th>\n",
       "      <td>2</td>\n",
       "      <td>Plank</td>\n",
       "      <td>Strength/Mobility</td>\n",
       "      <td>Bodyweight</td>\n",
       "      <td>Core</td>\n",
       "      <td>Hold</td>\n",
       "      <td>Rectus Abdominis, Transverse Abdominis</td>\n",
       "      <td>Start in a forearm plank position with your el...</td>\n",
       "    </tr>\n",
       "    <tr>\n",
       "      <th>3</th>\n",
       "      <td>3</td>\n",
       "      <td>Deadlift</td>\n",
       "      <td>Strength</td>\n",
       "      <td>Barbell</td>\n",
       "      <td>Lower Body</td>\n",
       "      <td>Pull</td>\n",
       "      <td>Glutes, Hamstrings, Lower Back</td>\n",
       "      <td>Stand with feet hip-width apart, barbell in fr...</td>\n",
       "    </tr>\n",
       "    <tr>\n",
       "      <th>4</th>\n",
       "      <td>4</td>\n",
       "      <td>Bicep Curls</td>\n",
       "      <td>Strength</td>\n",
       "      <td>Dumbbells</td>\n",
       "      <td>Upper Body</td>\n",
       "      <td>Pull</td>\n",
       "      <td>Biceps, Forearms</td>\n",
       "      <td>Stand with a dumbbell in each hand, arms fully...</td>\n",
       "    </tr>\n",
       "  </tbody>\n",
       "</table>\n",
       "</div>"
      ],
      "text/plain": [
       "   id exercise_name   type_of_activity type_of_equipment   body_part  type  \\\n",
       "0   0      Push-Ups           Strength        Bodyweight  Upper Body  Push   \n",
       "1   1        Squats           Strength        Bodyweight  Lower Body  Push   \n",
       "2   2         Plank  Strength/Mobility        Bodyweight        Core  Hold   \n",
       "3   3      Deadlift           Strength           Barbell  Lower Body  Pull   \n",
       "4   4   Bicep Curls           Strength         Dumbbells  Upper Body  Pull   \n",
       "\n",
       "                  muscle_groups_activated  \\\n",
       "0            Pectorals, Triceps, Deltoids   \n",
       "1          Quadriceps, Glutes, Hamstrings   \n",
       "2  Rectus Abdominis, Transverse Abdominis   \n",
       "3          Glutes, Hamstrings, Lower Back   \n",
       "4                        Biceps, Forearms   \n",
       "\n",
       "                                        instructions  \n",
       "0  Start in a high plank position with your hands...  \n",
       "1  Stand with feet shoulder-width apart. Lower yo...  \n",
       "2  Start in a forearm plank position with your el...  \n",
       "3  Stand with feet hip-width apart, barbell in fr...  \n",
       "4  Stand with a dumbbell in each hand, arms fully...  "
      ]
     },
     "execution_count": 3,
     "metadata": {},
     "output_type": "execute_result"
    }
   ],
   "source": [
    "df.head()"
   ]
  },
  {
   "cell_type": "code",
   "execution_count": 4,
   "id": "bf1d9345-bd46-42ba-b13b-e4f961934425",
   "metadata": {},
   "outputs": [
    {
     "data": {
      "text/plain": [
       "(207, 8)"
      ]
     },
     "execution_count": 4,
     "metadata": {},
     "output_type": "execute_result"
    }
   ],
   "source": [
    "df.shape"
   ]
  },
  {
   "cell_type": "code",
   "execution_count": 5,
   "id": "6e201025-509b-47b4-b8e3-57670410c4d2",
   "metadata": {},
   "outputs": [],
   "source": [
    "# importing minsearch as a python module \n",
    "\n",
    "import minsearch"
   ]
  },
  {
   "cell_type": "code",
   "execution_count": 6,
   "id": "faa5d791-a1b0-493d-accb-5e171190b159",
   "metadata": {},
   "outputs": [],
   "source": [
    "documents = df.to_dict(orient=\"records\")"
   ]
  },
  {
   "cell_type": "code",
   "execution_count": 7,
   "id": "69926b09-bbb5-41f3-86bf-c98dbac322b0",
   "metadata": {},
   "outputs": [
    {
     "data": {
      "text/plain": [
       "{'id': 0,\n",
       " 'exercise_name': 'Push-Ups',\n",
       " 'type_of_activity': 'Strength',\n",
       " 'type_of_equipment': 'Bodyweight',\n",
       " 'body_part': 'Upper Body',\n",
       " 'type': 'Push',\n",
       " 'muscle_groups_activated': 'Pectorals, Triceps, Deltoids',\n",
       " 'instructions': 'Start in a high plank position with your hands under your shoulders. Lower your body until your chest nearly touches the floor. Push back up to the starting position.'}"
      ]
     },
     "execution_count": 7,
     "metadata": {},
     "output_type": "execute_result"
    }
   ],
   "source": [
    "documents[0]"
   ]
  },
  {
   "cell_type": "code",
   "execution_count": 8,
   "id": "f427c8ca-918d-45d0-9d95-a023fa708762",
   "metadata": {},
   "outputs": [],
   "source": [
    "# indexing using MinSearch\n",
    "\n",
    "index = minsearch.Index(\n",
    "    text_fields=['exercise_name', 'type_of_activity', 'type_of_equipment', 'body_part',\n",
    "       'type', 'muscle_groups_activated', 'instructions'],\n",
    "    keyword_fields=['id']\n",
    ")"
   ]
  },
  {
   "cell_type": "code",
   "execution_count": 9,
   "id": "ff81f79f-d8af-4269-ad6a-2ff5f75bcf82",
   "metadata": {},
   "outputs": [
    {
     "data": {
      "text/plain": [
       "<minsearch.Index at 0x18ac69d55d0>"
      ]
     },
     "execution_count": 9,
     "metadata": {},
     "output_type": "execute_result"
    }
   ],
   "source": [
    "index.fit(documents)"
   ]
  },
  {
   "cell_type": "code",
   "execution_count": 10,
   "id": "4015ac9b-4eb0-4e0d-8066-b950a940d837",
   "metadata": {},
   "outputs": [],
   "source": [
    "# sample search \n",
    "\n",
    "query = \"give me exercises for chest\""
   ]
  },
  {
   "cell_type": "code",
   "execution_count": 11,
   "id": "212a64a7-9868-4f44-8f0a-814a9829055d",
   "metadata": {},
   "outputs": [
    {
     "data": {
      "text/plain": [
       "[{'id': 26,\n",
       "  'exercise_name': 'Chest Press',\n",
       "  'type_of_activity': 'Strength',\n",
       "  'type_of_equipment': 'Dumbbells',\n",
       "  'body_part': 'Upper Body',\n",
       "  'type': 'Push',\n",
       "  'muscle_groups_activated': 'Pectorals, Triceps, Deltoids',\n",
       "  'instructions': 'Lie on a bench with a dumbbell in each hand. Press the weights straight up over your chest, then lower them back down.'},\n",
       " {'id': 80,\n",
       "  'exercise_name': 'Cable Chest Press',\n",
       "  'type_of_activity': 'Strength',\n",
       "  'type_of_equipment': 'Cable Machine',\n",
       "  'body_part': 'Upper Body',\n",
       "  'type': 'Push',\n",
       "  'muscle_groups_activated': 'Pectorals, Triceps, Deltoids',\n",
       "  'instructions': 'Stand in front of a cable machine with handles at chest height. Press the handles forward, then return to the starting position.'},\n",
       " {'id': 156,\n",
       "  'exercise_name': 'Machine Chest Press',\n",
       "  'type_of_activity': 'Strength',\n",
       "  'type_of_equipment': 'Machine',\n",
       "  'body_part': 'Upper Body',\n",
       "  'type': 'Push',\n",
       "  'muscle_groups_activated': 'Pectorals, Triceps, Deltoids',\n",
       "  'instructions': 'Sit at a chest press machine with your feet flat on the floor. Press the handles forward until your arms are fully extended.'},\n",
       " {'id': 61,\n",
       "  'exercise_name': 'Machine Chest Fly',\n",
       "  'type_of_activity': 'Strength',\n",
       "  'type_of_equipment': 'Machine',\n",
       "  'body_part': 'Upper Body',\n",
       "  'type': 'Push',\n",
       "  'muscle_groups_activated': 'Pectorals',\n",
       "  'instructions': 'Sit at a chest fly machine, grasp the handles, and bring them together in front of your chest, then return to the starting position.'},\n",
       " {'id': 151,\n",
       "  'exercise_name': 'Incline Chest Press',\n",
       "  'type_of_activity': 'Strength',\n",
       "  'type_of_equipment': 'Dumbbells',\n",
       "  'body_part': 'Upper Body',\n",
       "  'type': 'Push',\n",
       "  'muscle_groups_activated': 'Pectorals, Triceps, Deltoids',\n",
       "  'instructions': 'Lie on an incline bench with a dumbbell in each hand. Press the weights up and together over your chest, then lower them back down.'}]"
      ]
     },
     "execution_count": 11,
     "metadata": {},
     "output_type": "execute_result"
    }
   ],
   "source": [
    "index.search(query, num_results=5)"
   ]
  },
  {
   "cell_type": "markdown",
   "id": "8d32a2d0-f7c0-4f69-aee9-115a3446c2c3",
   "metadata": {},
   "source": [
    "### Implementing RAG flow"
   ]
  },
  {
   "cell_type": "code",
   "execution_count": null,
   "id": "f5f23745-ee5d-4b25-a5b5-7531fd0c67c5",
   "metadata": {},
   "outputs": [],
   "source": [
    "import os \n",
    "\n",
    "os.environ[\"OPENAI_API_KEY\"] = \"your_own_key\"\n",
    "\n",
    "key = os.getenv(\"OPENAI_API_KEY\")"
   ]
  },
  {
   "cell_type": "code",
   "execution_count": 13,
   "id": "cb477566-6bcf-46a3-851f-ee608d1e519f",
   "metadata": {},
   "outputs": [],
   "source": [
    "from openai import OpenAI\n",
    "\n",
    "client = OpenAI(api_key=key)"
   ]
  },
  {
   "cell_type": "code",
   "execution_count": 14,
   "id": "2887de6b-d622-493b-8634-4ff21e661966",
   "metadata": {},
   "outputs": [],
   "source": [
    "def search(query):\n",
    "    boost = {}\n",
    "\n",
    "    results = index.search(\n",
    "        query=query,\n",
    "        filter_dict={},\n",
    "        boost_dict=boost,\n",
    "        num_results=5\n",
    "    )\n",
    "\n",
    "    return results"
   ]
  },
  {
   "cell_type": "code",
   "execution_count": 43,
   "id": "1ceed10c-4966-41f9-a748-d9ab6a7ed782",
   "metadata": {},
   "outputs": [],
   "source": [
    "prompt_template = \"\"\"\n",
    "You're a fitness instructor. Answer the QUESTION based on the CONTEXT from our exercises database.\n",
    "Use only the facts from the CONTEXT when answering the QUESTION.\n",
    "\n",
    "QUESTION: {question}\n",
    "\n",
    "CONTEXT:\n",
    "{context}\n",
    "\"\"\".strip()\n",
    "\n",
    "entry_template = \"\"\"\n",
    "exercise_name: {exercise_name}\n",
    "type_of_activity: {type_of_activity}\n",
    "type_of_equipment: {type_of_equipment}\n",
    "body_part: {body_part}\n",
    "type: {type}\n",
    "muscle_groups_activated: {muscle_groups_activated}\n",
    "instructions: {instructions}\n",
    "\"\"\".strip()\n",
    "\n",
    "def build_prompt(query, search_results):\n",
    "    context = \"\"\n",
    "    \n",
    "    for doc in search_results:\n",
    "        context = context + entry_template.format(**doc) + \"\\n\\n\"\n",
    "\n",
    "    prompt = prompt_template.format(question=query, context=context).strip()\n",
    "    return prompt"
   ]
  },
  {
   "cell_type": "code",
   "execution_count": 16,
   "id": "86fa2fad-b81a-4341-97cc-6bb51ae12bd0",
   "metadata": {},
   "outputs": [],
   "source": [
    "def llm(prompt, model='gpt-4o-mini'):\n",
    "    response = client.chat.completions.create(\n",
    "        model=model,\n",
    "        messages=[{\"role\": \"user\", \"content\": prompt}]\n",
    "    )\n",
    "    \n",
    "    return response.choices[0].message.content"
   ]
  },
  {
   "cell_type": "code",
   "execution_count": 17,
   "id": "8d4237b8-0a31-4990-96d9-7a5fe4168c1b",
   "metadata": {},
   "outputs": [],
   "source": [
    "# full RAG workflow\n",
    "\n",
    "def rag(query, model='gpt-4o-mini'):\n",
    "    search_results = search(query)\n",
    "    prompt = build_prompt(query, search_results)\n",
    "    answer = llm(prompt, model=model)\n",
    "    return answer"
   ]
  },
  {
   "cell_type": "code",
   "execution_count": 18,
   "id": "a11084ce-b52a-47d2-bf17-a941ad3b5ede",
   "metadata": {},
   "outputs": [],
   "source": [
    "query = \"give me exercises for chest\""
   ]
  },
  {
   "cell_type": "code",
   "execution_count": 19,
   "id": "2ab7fcaf-b373-4330-b5fa-78aafe0e1e8d",
   "metadata": {},
   "outputs": [
    {
     "name": "stdout",
     "output_type": "stream",
     "text": [
      "Here are some exercises for the chest:\n",
      "\n",
      "1. **Chest Press**\n",
      "   - *Type of Activity:* Strength\n",
      "   - *Equipment:* Dumbbells\n",
      "   - *Instructions:* Lie on a bench with a dumbbell in each hand. Press the weights straight up over your chest, then lower them back down.\n",
      "\n",
      "2. **Cable Chest Press**\n",
      "   - *Type of Activity:* Strength\n",
      "   - *Equipment:* Cable Machine\n",
      "   - *Instructions:* Stand in front of a cable machine with handles at chest height. Press the handles forward, then return to the starting position.\n",
      "\n",
      "3. **Machine Chest Press**\n",
      "   - *Type of Activity:* Strength\n",
      "   - *Equipment:* Machine\n",
      "   - *Instructions:* Sit at a chest press machine with your feet flat on the floor. Press the handles forward until your arms are fully extended.\n",
      "\n",
      "4. **Machine Chest Fly**\n",
      "   - *Type of Activity:* Strength\n",
      "   - *Equipment:* Machine\n",
      "   - *Instructions:* Sit at a chest fly machine, grasp the handles, and bring them together in front of your chest, then return to the starting position.\n",
      "\n",
      "5. **Incline Chest Press**\n",
      "   - *Type of Activity:* Strength\n",
      "   - *Equipment:* Dumbbells\n",
      "   - *Instructions:* Lie on an incline bench with a dumbbell in each hand. Press the weights up and together over your chest, then lower them back down.\n"
     ]
    }
   ],
   "source": [
    "print(rag(query))"
   ]
  },
  {
   "cell_type": "markdown",
   "id": "86cfcf77-3dbf-45e9-92c7-bb33047f0647",
   "metadata": {},
   "source": [
    "## Evaluation"
   ]
  },
  {
   "cell_type": "markdown",
   "id": "24ee51d8-4821-4139-b152-0957a2f61c12",
   "metadata": {},
   "source": [
    "### Evaluation for MinSearch Retreival Engine"
   ]
  },
  {
   "cell_type": "markdown",
   "id": "5c538b1d-de0d-47d8-85a9-e21ea2d5f72d",
   "metadata": {},
   "source": [
    "The ground truth dataset has been generated already using LLM model based on prompt where 5 questions for each exercise is created and stored for each document id."
   ]
  },
  {
   "cell_type": "code",
   "execution_count": 20,
   "id": "4ef9acb7-a890-444f-9640-f452c9aca7b7",
   "metadata": {},
   "outputs": [],
   "source": [
    "df_question = pd.read_csv('..\\data\\ground-truth-retrieval.csv')"
   ]
  },
  {
   "cell_type": "code",
   "execution_count": 21,
   "id": "2723013e-584f-49d9-a6db-a35805b9dc3e",
   "metadata": {},
   "outputs": [
    {
     "data": {
      "text/html": [
       "<div>\n",
       "<style scoped>\n",
       "    .dataframe tbody tr th:only-of-type {\n",
       "        vertical-align: middle;\n",
       "    }\n",
       "\n",
       "    .dataframe tbody tr th {\n",
       "        vertical-align: top;\n",
       "    }\n",
       "\n",
       "    .dataframe thead th {\n",
       "        text-align: right;\n",
       "    }\n",
       "</style>\n",
       "<table border=\"1\" class=\"dataframe\">\n",
       "  <thead>\n",
       "    <tr style=\"text-align: right;\">\n",
       "      <th></th>\n",
       "      <th>id</th>\n",
       "      <th>question</th>\n",
       "    </tr>\n",
       "  </thead>\n",
       "  <tbody>\n",
       "    <tr>\n",
       "      <th>0</th>\n",
       "      <td>0</td>\n",
       "      <td>What is the starting position for doing push-ups?</td>\n",
       "    </tr>\n",
       "    <tr>\n",
       "      <th>1</th>\n",
       "      <td>0</td>\n",
       "      <td>Which muscle groups are activated during push-...</td>\n",
       "    </tr>\n",
       "    <tr>\n",
       "      <th>2</th>\n",
       "      <td>0</td>\n",
       "      <td>How do you know when to push back up while doi...</td>\n",
       "    </tr>\n",
       "    <tr>\n",
       "      <th>3</th>\n",
       "      <td>0</td>\n",
       "      <td>Do you need any equipment to perform push-ups?</td>\n",
       "    </tr>\n",
       "    <tr>\n",
       "      <th>4</th>\n",
       "      <td>0</td>\n",
       "      <td>What part of the body do push-ups primarily ta...</td>\n",
       "    </tr>\n",
       "  </tbody>\n",
       "</table>\n",
       "</div>"
      ],
      "text/plain": [
       "   id                                           question\n",
       "0   0  What is the starting position for doing push-ups?\n",
       "1   0  Which muscle groups are activated during push-...\n",
       "2   0  How do you know when to push back up while doi...\n",
       "3   0     Do you need any equipment to perform push-ups?\n",
       "4   0  What part of the body do push-ups primarily ta..."
      ]
     },
     "execution_count": 21,
     "metadata": {},
     "output_type": "execute_result"
    }
   ],
   "source": [
    "df_question.head()"
   ]
  },
  {
   "cell_type": "code",
   "execution_count": 22,
   "id": "c82a2d19-717b-40ee-8098-ffbacdf51f46",
   "metadata": {},
   "outputs": [],
   "source": [
    "ground_truth = df_question.to_dict(orient=\"records\")"
   ]
  },
  {
   "cell_type": "code",
   "execution_count": 23,
   "id": "d41f6525-b81d-4f2e-9861-23e47912d87f",
   "metadata": {},
   "outputs": [
    {
     "data": {
      "text/plain": [
       "{'id': 0, 'question': 'What is the starting position for doing push-ups?'}"
      ]
     },
     "execution_count": 23,
     "metadata": {},
     "output_type": "execute_result"
    }
   ],
   "source": [
    "ground_truth[0]"
   ]
  },
  {
   "cell_type": "code",
   "execution_count": 24,
   "id": "a2decda9-1736-4963-b18d-17aace047ac7",
   "metadata": {},
   "outputs": [],
   "source": [
    "# evaluation metrics\n",
    "\n",
    "def hit_rate(relevance_total):\n",
    "    cnt = 0\n",
    "\n",
    "    for line in relevance_total:\n",
    "        if True in line:\n",
    "            cnt = cnt + 1\n",
    "\n",
    "    return cnt / len(relevance_total)\n",
    "\n",
    "def mrr(relevance_total):\n",
    "    total_score = 0.0\n",
    "\n",
    "    for line in relevance_total:\n",
    "        for rank in range(len(line)):\n",
    "            if line[rank] == True:\n",
    "                total_score = total_score + 1 / (rank + 1)\n",
    "\n",
    "    return total_score / len(relevance_total)"
   ]
  },
  {
   "cell_type": "code",
   "execution_count": 25,
   "id": "7c68f7a9-5abc-4a40-9816-dacc9fdba856",
   "metadata": {},
   "outputs": [],
   "source": [
    "def minsearch_search(query):\n",
    "    boost = {}\n",
    "\n",
    "    results = index.search(\n",
    "        query=query,\n",
    "        filter_dict={},\n",
    "        boost_dict=boost,\n",
    "        num_results=10\n",
    "    )\n",
    "\n",
    "    return results"
   ]
  },
  {
   "cell_type": "code",
   "execution_count": 26,
   "id": "aaca7b50-e090-4fa8-a696-8758b68a5bc4",
   "metadata": {},
   "outputs": [],
   "source": [
    "def evaluate(ground_truth, search_function):\n",
    "    relevance_total = []\n",
    "\n",
    "    for q in tqdm(ground_truth):\n",
    "        doc_id = q['id']\n",
    "        results = search_function(q[\"question\"])\n",
    "        relevance = [d['id'] == doc_id for d in results]\n",
    "        relevance_total.append(relevance)\n",
    "\n",
    "    return {\n",
    "        'hit_rate': hit_rate(relevance_total),\n",
    "        'mrr': mrr(relevance_total),\n",
    "    }"
   ]
  },
  {
   "cell_type": "code",
   "execution_count": 27,
   "id": "7057420c-d399-403b-af43-825a8267c0cb",
   "metadata": {},
   "outputs": [],
   "source": [
    "from tqdm.auto import tqdm"
   ]
  },
  {
   "cell_type": "code",
   "execution_count": 28,
   "id": "ab6d5402-bd50-471c-824f-9b8f71290b20",
   "metadata": {},
   "outputs": [
    {
     "data": {
      "application/vnd.jupyter.widget-view+json": {
       "model_id": "4d0d67e430064973a4f3b30f0d908208",
       "version_major": 2,
       "version_minor": 0
      },
      "text/plain": [
       "  0%|          | 0/1035 [00:00<?, ?it/s]"
      ]
     },
     "metadata": {},
     "output_type": "display_data"
    },
    {
     "data": {
      "text/plain": [
       "{'hit_rate': 0.9478260869565217, 'mrr': 0.8227612913120158}"
      ]
     },
     "execution_count": 28,
     "metadata": {},
     "output_type": "execute_result"
    }
   ],
   "source": [
    "evaluate(ground_truth, minsearch_search)"
   ]
  },
  {
   "cell_type": "markdown",
   "id": "01b2edc4-396b-42f8-96fd-3a8f12b83ece",
   "metadata": {},
   "source": [
    "> Basic retrieval evaluation without any boosting parameters gives us hit rate of 94.7% and MRR of 82.27%."
   ]
  },
  {
   "cell_type": "markdown",
   "id": "247f2a55-687c-4f12-b9f6-2815617c1916",
   "metadata": {},
   "source": [
    "#### Finding best parameters (for boost paramter) for retrieval search "
   ]
  },
  {
   "cell_type": "code",
   "execution_count": 29,
   "id": "04162c04-1832-4545-9415-2f7030b73289",
   "metadata": {},
   "outputs": [],
   "source": [
    "# split our data into test and validation\n",
    "\n",
    "df_validation = df_question[:100]\n",
    "df_test = df_question[100:]"
   ]
  },
  {
   "cell_type": "code",
   "execution_count": 30,
   "id": "cd694546-7975-44ba-be3b-1d295257d748",
   "metadata": {},
   "outputs": [],
   "source": [
    "import random\n",
    "\n",
    "def simple_optimize(param_ranges, objective_function, n_iterations=10):\n",
    "    best_params = None\n",
    "    best_score = float('-inf')  # Assuming we're minimizing. Use float('-inf') if maximizing.\n",
    "\n",
    "    for _ in range(n_iterations):\n",
    "        # Generate random parameters in loop\n",
    "        current_params = {}\n",
    "        for param, (min_val, max_val) in param_ranges.items():\n",
    "            if isinstance(min_val, int) and isinstance(max_val, int):\n",
    "                current_params[param] = random.randint(min_val, max_val)\n",
    "            else:\n",
    "                current_params[param] = random.uniform(min_val, max_val)\n",
    "        \n",
    "        # Evaluate the objective function\n",
    "        current_score = objective_function(current_params)\n",
    "        \n",
    "        # Update best if current is better\n",
    "        if current_score > best_score:  # Change to > if maximizing\n",
    "            best_score = current_score\n",
    "            best_params = current_params\n",
    "    \n",
    "    return best_params, best_score"
   ]
  },
  {
   "cell_type": "code",
   "execution_count": 31,
   "id": "3bf5e56f-9b70-4ade-b334-0936918d5144",
   "metadata": {},
   "outputs": [],
   "source": [
    "ground_truth_val = df_validation.to_dict(orient=\"records\")"
   ]
  },
  {
   "cell_type": "code",
   "execution_count": 32,
   "id": "556afbfc-2d56-47fe-8c62-8cab08897302",
   "metadata": {},
   "outputs": [],
   "source": [
    "# performing hyper paramter tuning for boost parameter\n",
    "\n",
    "def minsearch_search(query, boost= None):\n",
    "    if boost is None:\n",
    "        boost = {}\n",
    "\n",
    "    results = index.search(\n",
    "        query=query,\n",
    "        filter_dict={},\n",
    "        boost_dict=boost,\n",
    "        num_results=10\n",
    "    )\n",
    "\n",
    "    return results"
   ]
  },
  {
   "cell_type": "code",
   "execution_count": 33,
   "id": "e95fc33d-75e0-4418-8da3-25b712c0da2d",
   "metadata": {},
   "outputs": [],
   "source": [
    "# paramters to tune \n",
    "\n",
    "param_ranges = {\n",
    "    'exercise_name': (0.0, 3.0),\n",
    "    'type_of_activity': (0.0, 3.0),\n",
    "    'type_of_equipment': (0.0, 3.0),\n",
    "    'body_part': (0.0, 3.0),\n",
    "    'type': (0.0, 3.0),\n",
    "    'muscle_groups_activated': (0.0, 3.0),\n",
    "    'instructions': (0.0, 3.0),\n",
    "}\n",
    "\n",
    "# objective fucntion is to maximize MRR metric\n",
    "\n",
    "def objective_function(boost_params):\n",
    "    def search_function(q):\n",
    "        return minsearch_search(q, boost_params)\n",
    "\n",
    "    results = evaluate(ground_truth_val, search_function)\n",
    "    return results['mrr']"
   ]
  },
  {
   "cell_type": "code",
   "execution_count": 34,
   "id": "00f7e04d-f5f7-48f0-9376-dc316b4a2ba2",
   "metadata": {},
   "outputs": [
    {
     "data": {
      "application/vnd.jupyter.widget-view+json": {
       "model_id": "f49beca53e3d4f9181448bd88d4ac107",
       "version_major": 2,
       "version_minor": 0
      },
      "text/plain": [
       "  0%|          | 0/100 [00:00<?, ?it/s]"
      ]
     },
     "metadata": {},
     "output_type": "display_data"
    },
    {
     "data": {
      "application/vnd.jupyter.widget-view+json": {
       "model_id": "dca2576d9aca4ee49be844051c35cfab",
       "version_major": 2,
       "version_minor": 0
      },
      "text/plain": [
       "  0%|          | 0/100 [00:00<?, ?it/s]"
      ]
     },
     "metadata": {},
     "output_type": "display_data"
    },
    {
     "data": {
      "application/vnd.jupyter.widget-view+json": {
       "model_id": "bdcd57d4c430405f9a7de72dd8f90eeb",
       "version_major": 2,
       "version_minor": 0
      },
      "text/plain": [
       "  0%|          | 0/100 [00:00<?, ?it/s]"
      ]
     },
     "metadata": {},
     "output_type": "display_data"
    },
    {
     "data": {
      "application/vnd.jupyter.widget-view+json": {
       "model_id": "e5b4f83e3d734485906f2b7e687e9819",
       "version_major": 2,
       "version_minor": 0
      },
      "text/plain": [
       "  0%|          | 0/100 [00:00<?, ?it/s]"
      ]
     },
     "metadata": {},
     "output_type": "display_data"
    },
    {
     "data": {
      "application/vnd.jupyter.widget-view+json": {
       "model_id": "885b8b8531fa480f91ea204617a4e6de",
       "version_major": 2,
       "version_minor": 0
      },
      "text/plain": [
       "  0%|          | 0/100 [00:00<?, ?it/s]"
      ]
     },
     "metadata": {},
     "output_type": "display_data"
    },
    {
     "data": {
      "application/vnd.jupyter.widget-view+json": {
       "model_id": "e80a5353dbea408d923ade6a92611000",
       "version_major": 2,
       "version_minor": 0
      },
      "text/plain": [
       "  0%|          | 0/100 [00:00<?, ?it/s]"
      ]
     },
     "metadata": {},
     "output_type": "display_data"
    },
    {
     "data": {
      "application/vnd.jupyter.widget-view+json": {
       "model_id": "6521d137e6374716b5fb737dff15c91b",
       "version_major": 2,
       "version_minor": 0
      },
      "text/plain": [
       "  0%|          | 0/100 [00:00<?, ?it/s]"
      ]
     },
     "metadata": {},
     "output_type": "display_data"
    },
    {
     "data": {
      "application/vnd.jupyter.widget-view+json": {
       "model_id": "5a1534c8c7fc4c2a95317d5cf2327e92",
       "version_major": 2,
       "version_minor": 0
      },
      "text/plain": [
       "  0%|          | 0/100 [00:00<?, ?it/s]"
      ]
     },
     "metadata": {},
     "output_type": "display_data"
    },
    {
     "data": {
      "application/vnd.jupyter.widget-view+json": {
       "model_id": "083483f9f87e4693891d61bdb256a683",
       "version_major": 2,
       "version_minor": 0
      },
      "text/plain": [
       "  0%|          | 0/100 [00:00<?, ?it/s]"
      ]
     },
     "metadata": {},
     "output_type": "display_data"
    },
    {
     "data": {
      "application/vnd.jupyter.widget-view+json": {
       "model_id": "cc70fd875414462a977bab76cb110175",
       "version_major": 2,
       "version_minor": 0
      },
      "text/plain": [
       "  0%|          | 0/100 [00:00<?, ?it/s]"
      ]
     },
     "metadata": {},
     "output_type": "display_data"
    },
    {
     "data": {
      "application/vnd.jupyter.widget-view+json": {
       "model_id": "12e0e7b0f1b848e88b076e3eb990f5f7",
       "version_major": 2,
       "version_minor": 0
      },
      "text/plain": [
       "  0%|          | 0/100 [00:00<?, ?it/s]"
      ]
     },
     "metadata": {},
     "output_type": "display_data"
    },
    {
     "data": {
      "application/vnd.jupyter.widget-view+json": {
       "model_id": "f819d93a6de4440dbdd393611987e16e",
       "version_major": 2,
       "version_minor": 0
      },
      "text/plain": [
       "  0%|          | 0/100 [00:00<?, ?it/s]"
      ]
     },
     "metadata": {},
     "output_type": "display_data"
    },
    {
     "data": {
      "application/vnd.jupyter.widget-view+json": {
       "model_id": "f546f0ee16034dd39974223e42938532",
       "version_major": 2,
       "version_minor": 0
      },
      "text/plain": [
       "  0%|          | 0/100 [00:00<?, ?it/s]"
      ]
     },
     "metadata": {},
     "output_type": "display_data"
    },
    {
     "data": {
      "application/vnd.jupyter.widget-view+json": {
       "model_id": "2d3a087a74024fd9a4b031ee5319dac1",
       "version_major": 2,
       "version_minor": 0
      },
      "text/plain": [
       "  0%|          | 0/100 [00:00<?, ?it/s]"
      ]
     },
     "metadata": {},
     "output_type": "display_data"
    },
    {
     "data": {
      "application/vnd.jupyter.widget-view+json": {
       "model_id": "dca36d2d47f545babf5f4d1e100c585e",
       "version_major": 2,
       "version_minor": 0
      },
      "text/plain": [
       "  0%|          | 0/100 [00:00<?, ?it/s]"
      ]
     },
     "metadata": {},
     "output_type": "display_data"
    },
    {
     "data": {
      "application/vnd.jupyter.widget-view+json": {
       "model_id": "9048c046aad9493eaa86d94246740fd3",
       "version_major": 2,
       "version_minor": 0
      },
      "text/plain": [
       "  0%|          | 0/100 [00:00<?, ?it/s]"
      ]
     },
     "metadata": {},
     "output_type": "display_data"
    },
    {
     "data": {
      "application/vnd.jupyter.widget-view+json": {
       "model_id": "ae7d961430844a94b91768304d7e49d8",
       "version_major": 2,
       "version_minor": 0
      },
      "text/plain": [
       "  0%|          | 0/100 [00:00<?, ?it/s]"
      ]
     },
     "metadata": {},
     "output_type": "display_data"
    },
    {
     "data": {
      "application/vnd.jupyter.widget-view+json": {
       "model_id": "342afd8922894fd3959cccb5454e42d8",
       "version_major": 2,
       "version_minor": 0
      },
      "text/plain": [
       "  0%|          | 0/100 [00:00<?, ?it/s]"
      ]
     },
     "metadata": {},
     "output_type": "display_data"
    },
    {
     "data": {
      "application/vnd.jupyter.widget-view+json": {
       "model_id": "1eff30ef77144e7981ff9e5ffe27b64e",
       "version_major": 2,
       "version_minor": 0
      },
      "text/plain": [
       "  0%|          | 0/100 [00:00<?, ?it/s]"
      ]
     },
     "metadata": {},
     "output_type": "display_data"
    },
    {
     "data": {
      "application/vnd.jupyter.widget-view+json": {
       "model_id": "1055f4540d714b02b845f9e8d6841df6",
       "version_major": 2,
       "version_minor": 0
      },
      "text/plain": [
       "  0%|          | 0/100 [00:00<?, ?it/s]"
      ]
     },
     "metadata": {},
     "output_type": "display_data"
    },
    {
     "data": {
      "text/plain": [
       "({'exercise_name': 2.2712194763992146,\n",
       "  'type_of_activity': 2.242684967456583,\n",
       "  'type_of_equipment': 1.029466052402638,\n",
       "  'body_part': 1.949161024733541,\n",
       "  'type': 0.09471758441928757,\n",
       "  'muscle_groups_activated': 0.06839437488384126,\n",
       "  'instructions': 1.0572757748219206},\n",
       " 0.8419444444444446)"
      ]
     },
     "execution_count": 34,
     "metadata": {},
     "output_type": "execute_result"
    }
   ],
   "source": [
    "# running the tuning pipeline\n",
    "\n",
    "simple_optimize(param_ranges, objective_function, n_iterations=20)"
   ]
  },
  {
   "cell_type": "code",
   "execution_count": 35,
   "id": "e33d083d-dcf5-40dd-838e-644b250d7d28",
   "metadata": {},
   "outputs": [
    {
     "data": {
      "application/vnd.jupyter.widget-view+json": {
       "model_id": "4eceea5e1604492db79936957fcaefa6",
       "version_major": 2,
       "version_minor": 0
      },
      "text/plain": [
       "  0%|          | 0/1035 [00:00<?, ?it/s]"
      ]
     },
     "metadata": {},
     "output_type": "display_data"
    },
    {
     "data": {
      "text/plain": [
       "{'hit_rate': 0.9468599033816425, 'mrr': 0.9030039874242772}"
      ]
     },
     "execution_count": 35,
     "metadata": {},
     "output_type": "execute_result"
    }
   ],
   "source": [
    "# now with best hyper parameters on full datset \n",
    "def minsearch_improved(query):\n",
    "    boost = {\n",
    "        'exercise_name': 2.11,\n",
    "        'type_of_activity': 1.46,\n",
    "        'type_of_equipment': 0.65,\n",
    "        'body_part': 2.65,\n",
    "        'type': 1.31,\n",
    "        'muscle_groups_activated': 2.54,\n",
    "        'instructions': 0.74\n",
    "    }\n",
    "\n",
    "    results = index.search(\n",
    "        query=query,\n",
    "        filter_dict={},\n",
    "        boost_dict=boost,\n",
    "        num_results=10\n",
    "    )\n",
    "\n",
    "    return results\n",
    "\n",
    "evaluate(ground_truth, minsearch_improved)"
   ]
  },
  {
   "cell_type": "markdown",
   "id": "33ca0416-be17-417e-93d5-476ba45ee1b4",
   "metadata": {},
   "source": [
    "### Evaluating RAG workflow\n",
    "\n",
    "Here, we will use LLM As a judge approach to evaluate RAG."
   ]
  },
  {
   "cell_type": "code",
   "execution_count": 44,
   "id": "5df275ec-8b66-45fb-bb10-99a953fabf8f",
   "metadata": {},
   "outputs": [],
   "source": [
    "prompt2_template = \"\"\"\n",
    "You are an expert evaluator for a RAG system.\n",
    "Your task is to analyze the relevance of the generated answer to the given question.\n",
    "Based on the relevance of the generated answer, you will classify it\n",
    "as \"NON_RELEVANT\", \"PARTLY_RELEVANT\", or \"RELEVANT\".\n",
    "\n",
    "Here is the data for evaluation:\n",
    "\n",
    "Question: {question}\n",
    "Generated Answer: {answer_llm}\n",
    "\n",
    "Please analyze the content and context of the generated answer in relation to the question\n",
    "and provide your evaluation in parsable JSON without using code blocks:\n",
    "\n",
    "{{\n",
    "  \"Relevance\": \"NON_RELEVANT\" | \"PARTLY_RELEVANT\" | \"RELEVANT\",\n",
    "  \"Explanation\": \"[Provide a brief explanation for your evaluation]\"\n",
    "}}\n",
    "\"\"\".strip()"
   ]
  },
  {
   "cell_type": "code",
   "execution_count": 40,
   "id": "e2b6ed0f-d48e-46b4-933e-7c51508d7083",
   "metadata": {},
   "outputs": [
    {
     "data": {
      "text/plain": [
       "1035"
      ]
     },
     "execution_count": 40,
     "metadata": {},
     "output_type": "execute_result"
    }
   ],
   "source": [
    "len(ground_truth)"
   ]
  },
  {
   "cell_type": "code",
   "execution_count": 45,
   "id": "1b0a1f9f-ed64-41ef-9a93-225e57be182d",
   "metadata": {},
   "outputs": [
    {
     "name": "stdout",
     "output_type": "stream",
     "text": [
      "You are an expert evaluator for a RAG system.\n",
      "Your task is to analyze the relevance of the generated answer to the given question.\n",
      "Based on the relevance of the generated answer, you will classify it\n",
      "as \"NON_RELEVANT\", \"PARTLY_RELEVANT\", or \"RELEVANT\".\n",
      "\n",
      "Here is the data for evaluation:\n",
      "\n",
      "Question: What is the starting position for doing push-ups?\n",
      "Generated Answer: The starting position for doing push-ups is to start in a high plank position with your hands under your shoulders.\n",
      "\n",
      "Please analyze the content and context of the generated answer in relation to the question\n",
      "and provide your evaluation in parsable JSON without using code blocks:\n",
      "\n",
      "{\n",
      "  \"Relevance\": \"NON_RELEVANT\" | \"PARTLY_RELEVANT\" | \"RELEVANT\",\n",
      "  \"Explanation\": \"[Provide a brief explanation for your evaluation]\"\n",
      "}\n"
     ]
    }
   ],
   "source": [
    "# example of how prompt looks for one record\n",
    "\n",
    "record = ground_truth[0]\n",
    "question = record[\"question\"]\n",
    "answer_llm = rag(question)\n",
    "\n",
    "prompt = prompt2_template.format(question=question, answer_llm=answer_llm)\n",
    "print(prompt)"
   ]
  },
  {
   "cell_type": "code",
   "execution_count": 46,
   "id": "7e01127a-428f-43cf-8d8a-5d9ba85df4a6",
   "metadata": {},
   "outputs": [
    {
     "data": {
      "text/plain": [
       "'{\\n  \"Relevance\": \"RELEVANT\",\\n  \"Explanation\": \"The generated answer accurately describes the starting position for doing push-ups, which directly addresses the question asked.\"\\n}'"
      ]
     },
     "execution_count": 46,
     "metadata": {},
     "output_type": "execute_result"
    }
   ],
   "source": [
    "llm(prompt)"
   ]
  },
  {
   "cell_type": "code",
   "execution_count": 47,
   "id": "1275760c-d54b-42c3-974e-28f7c22551ba",
   "metadata": {},
   "outputs": [],
   "source": [
    "import json"
   ]
  },
  {
   "cell_type": "code",
   "execution_count": 48,
   "id": "a898fd49-44d2-4430-afa0-fd76ed80eaf4",
   "metadata": {},
   "outputs": [],
   "source": [
    "# smapling only 200 records\n",
    "\n",
    "df_sample = df_question.sample(n=200, random_state=1)"
   ]
  },
  {
   "cell_type": "code",
   "execution_count": 49,
   "id": "02ca0533-5735-4036-8e83-4e1ce2b5f170",
   "metadata": {},
   "outputs": [],
   "source": [
    "samples = df_sample.to_dict(orient=\"records\")"
   ]
  },
  {
   "cell_type": "code",
   "execution_count": null,
   "id": "c4107621-93c9-4b8f-ae66-d3fa97f7e570",
   "metadata": {},
   "outputs": [],
   "source": [
    "# evaluations = []\n",
    "\n",
    "# for record in tqdm(samples):\n",
    "#     question = record[\"question\"]\n",
    "#     answer_llm = rag(question)\n",
    "\n",
    "#     prompt = prompt2_template.format(\n",
    "#         question=question, \n",
    "#         answer_llm=answer_llm)\n",
    "\n",
    "#     evaluation = llm(prompt)\n",
    "#     evaluation = json.loads(evaluation)\n",
    "\n",
    "#     evaluations.append((record, answer_llm, evaluation))"
   ]
  },
  {
   "cell_type": "code",
   "execution_count": 52,
   "id": "ae39067e-5299-44e4-ad7d-9f9f001f2b0a",
   "metadata": {},
   "outputs": [
    {
     "data": {
      "text/html": [
       "<div>\n",
       "<style scoped>\n",
       "    .dataframe tbody tr th:only-of-type {\n",
       "        vertical-align: middle;\n",
       "    }\n",
       "\n",
       "    .dataframe tbody tr th {\n",
       "        vertical-align: top;\n",
       "    }\n",
       "\n",
       "    .dataframe thead th {\n",
       "        text-align: right;\n",
       "    }\n",
       "</style>\n",
       "<table border=\"1\" class=\"dataframe\">\n",
       "  <thead>\n",
       "    <tr style=\"text-align: right;\">\n",
       "      <th></th>\n",
       "      <th>answer</th>\n",
       "      <th>id</th>\n",
       "      <th>question</th>\n",
       "      <th>relevance</th>\n",
       "      <th>explanation</th>\n",
       "    </tr>\n",
       "  </thead>\n",
       "  <tbody>\n",
       "    <tr>\n",
       "      <th>0</th>\n",
       "      <td>The primary muscle group activated during the ...</td>\n",
       "      <td>171</td>\n",
       "      <td>What is the primary muscle group activated dur...</td>\n",
       "      <td>RELEVANT</td>\n",
       "      <td>The generated answer accurately identifies the...</td>\n",
       "    </tr>\n",
       "    <tr>\n",
       "      <th>1</th>\n",
       "      <td>Yes, jumping squats can be performed without a...</td>\n",
       "      <td>115</td>\n",
       "      <td>Can jumping squats be performed without any eq...</td>\n",
       "      <td>RELEVANT</td>\n",
       "      <td>The generated answer directly addresses the qu...</td>\n",
       "    </tr>\n",
       "    <tr>\n",
       "      <th>2</th>\n",
       "      <td>To properly execute a Dumbbell Lateral Raise, ...</td>\n",
       "      <td>53</td>\n",
       "      <td>Can you explain the proper technique for execu...</td>\n",
       "      <td>RELEVANT</td>\n",
       "      <td>The generated answer provides a clear and deta...</td>\n",
       "    </tr>\n",
       "    <tr>\n",
       "      <th>3</th>\n",
       "      <td>To ensure your arms are fully extended during ...</td>\n",
       "      <td>198</td>\n",
       "      <td>How do I ensure my arms are fully extended dur...</td>\n",
       "      <td>RELEVANT</td>\n",
       "      <td>The generated answer provides detailed instruc...</td>\n",
       "    </tr>\n",
       "    <tr>\n",
       "      <th>4</th>\n",
       "      <td>The part of the body primarily engaged in Gobl...</td>\n",
       "      <td>19</td>\n",
       "      <td>What part of the body is primarily engaged in ...</td>\n",
       "      <td>RELEVANT</td>\n",
       "      <td>The generated answer accurately identifies tha...</td>\n",
       "    </tr>\n",
       "  </tbody>\n",
       "</table>\n",
       "</div>"
      ],
      "text/plain": [
       "                                              answer   id  \\\n",
       "0  The primary muscle group activated during the ...  171   \n",
       "1  Yes, jumping squats can be performed without a...  115   \n",
       "2  To properly execute a Dumbbell Lateral Raise, ...   53   \n",
       "3  To ensure your arms are fully extended during ...  198   \n",
       "4  The part of the body primarily engaged in Gobl...   19   \n",
       "\n",
       "                                            question relevance  \\\n",
       "0  What is the primary muscle group activated dur...  RELEVANT   \n",
       "1  Can jumping squats be performed without any eq...  RELEVANT   \n",
       "2  Can you explain the proper technique for execu...  RELEVANT   \n",
       "3  How do I ensure my arms are fully extended dur...  RELEVANT   \n",
       "4  What part of the body is primarily engaged in ...  RELEVANT   \n",
       "\n",
       "                                         explanation  \n",
       "0  The generated answer accurately identifies the...  \n",
       "1  The generated answer directly addresses the qu...  \n",
       "2  The generated answer provides a clear and deta...  \n",
       "3  The generated answer provides detailed instruc...  \n",
       "4  The generated answer accurately identifies tha...  "
      ]
     },
     "execution_count": 52,
     "metadata": {},
     "output_type": "execute_result"
    }
   ],
   "source": [
    "# getting the dataset from author after evaluation \n",
    "\n",
    "df_eval_gpt_mini = pd.read_csv('../data/rag-eval-gpt-4o-mini.csv')\n",
    "df_eval_gpt_mini.head(5)\n"
   ]
  },
  {
   "cell_type": "code",
   "execution_count": 53,
   "id": "29ce5aa9-9143-4b74-b9b9-e8351323d8ce",
   "metadata": {},
   "outputs": [
    {
     "data": {
      "text/plain": [
       "relevance\n",
       "RELEVANT           0.835\n",
       "PARTLY_RELEVANT    0.150\n",
       "NON_RELEVANT       0.015\n",
       "Name: proportion, dtype: float64"
      ]
     },
     "execution_count": 53,
     "metadata": {},
     "output_type": "execute_result"
    }
   ],
   "source": [
    "df_eval_gpt_mini[\"relevance\"].value_counts(normalize=True)"
   ]
  },
  {
   "cell_type": "markdown",
   "id": "f44fb89d-d91c-40ad-bc9b-91a112df6057",
   "metadata": {},
   "source": [
    "> 83.5% of the records have relevant answers generated by RAG which is good to achieve for our RAG model using gpt-4o-mini."
   ]
  },
  {
   "cell_type": "code",
   "execution_count": null,
   "id": "ae3c015b-8337-4747-8467-9ac6a1d73cd9",
   "metadata": {},
   "outputs": [],
   "source": []
  }
 ],
 "metadata": {
  "kernelspec": {
   "display_name": "Python 3 (ipykernel)",
   "language": "python",
   "name": "python3"
  },
  "language_info": {
   "codemirror_mode": {
    "name": "ipython",
    "version": 3
   },
   "file_extension": ".py",
   "mimetype": "text/x-python",
   "name": "python",
   "nbconvert_exporter": "python",
   "pygments_lexer": "ipython3",
   "version": "3.10.11"
  }
 },
 "nbformat": 4,
 "nbformat_minor": 5
}
